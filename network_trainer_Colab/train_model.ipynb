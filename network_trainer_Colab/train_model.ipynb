{
  "nbformat": 4,
  "nbformat_minor": 0,
  "metadata": {
    "colab": {
      "name": "train_model.ipynb",
      "provenance": [],
      "collapsed_sections": []
    },
    "kernelspec": {
      "name": "python3",
      "display_name": "Python 3"
    }
  },
  "cells": [
    {
      "cell_type": "code",
      "metadata": {
        "id": "B2AXmqHyRTwh",
        "colab_type": "code",
        "colab": {}
      },
      "source": [
        "import pickle\n",
        "import h5py\n",
        "import os\n",
        "from sklearn.linear_model import LogisticRegression\n",
        "from sklearn.model_selection import GridSearchCV\n",
        "from sklearn.metrics import classification_report"
      ],
      "execution_count": 0,
      "outputs": []
    },
    {
      "cell_type": "code",
      "metadata": {
        "id": "hfHXU8hyRh7k",
        "colab_type": "code",
        "colab": {}
      },
      "source": [
        "# mount Google Drive\n",
        "# note that the authorization code might be required\n",
        "from google.colab import drive\n",
        "drive.mount('/content/gdrive')"
      ],
      "execution_count": 0,
      "outputs": []
    },
    {
      "cell_type": "code",
      "metadata": {
        "id": "KvFSe-hSTA0y",
        "colab_type": "code",
        "colab": {}
      },
      "source": [
        "# set and check paths for the database and the output\n",
        "databasePath = r\"/content/gdrive/My Drive/KrakN/database/features_s_2.hdf5\"\n",
        "modelPath = r\"/content/gdrive/My Drive/KrakN/KrakN_model.cpickle\""
      ],
      "execution_count": 0,
      "outputs": []
    },
    {
      "cell_type": "code",
      "metadata": {
        "id": "WLjcoM7DTPmm",
        "colab_type": "code",
        "colab": {}
      },
      "source": [
        "# check if the features database is present\n",
        "if not os.path.exists(databasePath):\n",
        "    print(\"Features file at {}\\nDoes not exist!\\nQuitting now\".format(databasePath))\n",
        "    quit()"
      ],
      "execution_count": 0,
      "outputs": []
    },
    {
      "cell_type": "code",
      "metadata": {
        "id": "ptA8xdPcTWF_",
        "colab_type": "code",
        "colab": {}
      },
      "source": [
        "# check if the model file exists\n",
        "# old files will be overwritten\n",
        "if os.path.exists(modelPath):\n",
        "    os.remove(modelPath)"
      ],
      "execution_count": 0,
      "outputs": []
    },
    {
      "cell_type": "code",
      "metadata": {
        "id": "T1V6tWEHVCYE",
        "colab_type": "code",
        "colab": {}
      },
      "source": [
        "# specify hom many jobs to run in parallel by model selection\n",
        "# -1 means all processors\n",
        "jobs = 1"
      ],
      "execution_count": 0,
      "outputs": []
    },
    {
      "cell_type": "code",
      "metadata": {
        "id": "_n1rrsFFVDkB",
        "colab_type": "code",
        "colab": {}
      },
      "source": [
        "# open database\n",
        "db = h5py.File(databasePath, \"r\")\n",
        "# and set the training / testing split index\n",
        "i = int(db[\"labels\"].shape[0] * 0.75)"
      ],
      "execution_count": 0,
      "outputs": []
    },
    {
      "cell_type": "code",
      "metadata": {
        "id": "kGgAt7lNVF2z",
        "colab_type": "code",
        "colab": {}
      },
      "source": [
        "# train Logistic Regression classifier\n",
        "print(\"Tuning hyperparameters...\")\n",
        "params = {\"C\": [0.1, 1.0, 10.0, 100.0, 1000.0, 10000.0]}\n",
        "model = GridSearchCV(LogisticRegression(max_iter=700), params, cv=3, n_jobs=jobs, verbose=20)\n",
        "model.fit(db[\"features\"][:i], db[\"labels\"][:i])\n",
        "print(\"Best hyperparameter: {}\".format(model.best_params_))"
      ],
      "execution_count": 0,
      "outputs": []
    },
    {
      "cell_type": "code",
      "metadata": {
        "id": "OliBaMKIVMhi",
        "colab_type": "code",
        "colab": {}
      },
      "source": [
        "# evaluate model\n",
        "print(\"Evaluating...\")\n",
        "preds = model.predict(db[\"features\"][i:])\n",
        "print(classification_report(db[\"labels\"][i:], preds, target_names=db[\"label_names\"]))"
      ],
      "execution_count": 0,
      "outputs": []
    },
    {
      "cell_type": "code",
      "metadata": {
        "id": "tOxx8OCCVNa9",
        "colab_type": "code",
        "colab": {}
      },
      "source": [
        "# save model to disk\n",
        "print(\"Saving model...\")\n",
        "f = open(modelPath, \"wb\")\n",
        "f.write(pickle.dumps(model.best_estimator_))\n",
        "f.close()"
      ],
      "execution_count": 0,
      "outputs": []
    },
    {
      "cell_type": "code",
      "metadata": {
        "id": "QHsVzrcMVOGh",
        "colab_type": "code",
        "colab": {}
      },
      "source": [
        "# close the features database\n",
        "db.close()"
      ],
      "execution_count": 0,
      "outputs": []
    }
  ]
}