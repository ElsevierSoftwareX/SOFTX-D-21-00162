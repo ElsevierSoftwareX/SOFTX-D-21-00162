{
 "cells": [
  {
   "cell_type": "code",
   "execution_count": null,
   "metadata": {},
   "outputs": [],
   "source": [
    "#!python3\n",
    "# mount Google Drive\n",
    "from google.colab import drive\n",
    "drive.mount('/content/gdrive')"
   ]
  },
  {
   "cell_type": "code",
   "execution_count": null,
   "metadata": {},
   "outputs": [],
   "source": [
    "# import dependencies \n",
    "import cv2\n",
    "from os import listdir\n",
    "from os.path import isfile, join\n",
    "import os\n",
    "from keras.applications import VGG16\n",
    "from keras.preprocessing import image\n",
    "from keras.applications.vgg16 import preprocess_input\n",
    "import pickle\n",
    "import h5py\n",
    "import numpy as np\n",
    "import cv2\n",
    "from imutils import paths"
   ]
  },
  {
   "cell_type": "code",
   "execution_count": null,
   "metadata": {},
   "outputs": [],
   "source": [
    "# set google drive paths\n",
    "modelPath = r\"/content/gdrive/My Drive/KrakN/KrakN.cpickle\"\n",
    "imagePath = r\"/content/gdrive/My Drive/KrakN/input/2.png\"\n",
    "databasePath = r\"/content/gdrive/My Drive/KrakN/database/features_s_2.hdf5\"\n",
    "outputPathDir = r\"/content/gdrive/My Drive/KrakN/output\""
   ]
  },
  {
   "cell_type": "code",
   "execution_count": null,
   "metadata": {},
   "outputs": [],
   "source": [
    "# check files integrity\n",
    "input_paths = [modelPath, imagePath, databasePath, outputPathDir]\n",
    "for input_path in input_paths:\n",
    "    if not os.path.exists(input_path):\n",
    "        print(\"Input path {} not found!\\nQuitting now\".format(input_path))\n",
    "        quit()"
   ]
  },
  {
   "cell_type": "code",
   "execution_count": null,
   "metadata": {},
   "outputs": [],
   "source": [
    "# set confidence threshold\n",
    "confidenceThreshold = 0.95"
   ]
  },
  {
   "cell_type": "code",
   "execution_count": null,
   "metadata": {},
   "outputs": [],
   "source": [
    "# load models\n",
    "classifier = pickle.load(open(modelPath, 'rb'))\n",
    "model = VGG16(weights=\"imagenet\", include_top=False)"
   ]
  },
  {
   "cell_type": "code",
   "execution_count": null,
   "metadata": {},
   "outputs": [],
   "source": [
    "# load labels from database\n",
    "db = h5py.File(databasePath, \"r\")\n",
    "labelsDb = db['label_names']\n",
    "labels = []\n",
    "for label in labelsDb: labels.append(label)"
   ]
  },
  {
   "cell_type": "code",
   "execution_count": null,
   "metadata": {},
   "outputs": [],
   "source": [
    "# load scale factor from database\n",
    "splitted = databasePath.split('_')\n",
    "scale = splitted[-1]\n",
    "scale = float(scale[:-5])"
   ]
  },
  {
   "cell_type": "code",
   "execution_count": null,
   "metadata": {},
   "outputs": [],
   "source": [
    "# set tile window & step sizes\n",
    "overlap = 0.6\n",
    "tileSize = 224\n",
    "windowSize = int(tileSize // scale)\n",
    "pxStep = int(windowSize * (1 - overlap))"
   ]
  },
  {
   "cell_type": "code",
   "execution_count": null,
   "metadata": {},
   "outputs": [],
   "source": [
    "# load image\n",
    "imageCV = cv2.imread(imagePath)\n",
    "(h, w) = imageCV.shape[:2]"
   ]
  },
  {
   "cell_type": "code",
   "execution_count": null,
   "metadata": {},
   "outputs": [],
   "source": [
    "# add mask images\n",
    "maskList = []\n",
    "for label in labels:\n",
    "    maskList.append(np.zeros((h, w)))"
   ]
  },
  {
   "cell_type": "code",
   "execution_count": null,
   "metadata": {},
   "outputs": [],
   "source": [
    "# compute number of tiles for image\n",
    "tilesNumber = int(((w - (windowSize - pxStep)) / pxStep)) * int(((h - (windowSize - pxStep)) / pxStep))\n",
    "xTop = 0\n",
    "yTop = 0\n",
    "\n",
    "# initialize counter\n",
    "counter = 0"
   ]
  },
  {
   "cell_type": "code",
   "execution_count": null,
   "metadata": {},
   "outputs": [],
   "source": [
    "# last column & row indicators:\n",
    "lastCol = False\n",
    "lastRow = False\n",
    "\n",
    "while True:\n",
    "    # crop single tile from image\n",
    "    subImage = imageCV[yTop:yTop + windowSize, xTop:xTop + windowSize]\n",
    "\n",
    "    # resize sub image according to database settings\n",
    "    subImage = cv2.resize(subImage, (tileSize, tileSize), interpolation=cv2.INTER_CUBIC)\n",
    "\n",
    "    # Get image features\n",
    "    img_data = image.img_to_array(subImage)\n",
    "    img_data = np.expand_dims(img_data, axis=0)\n",
    "    img_data = preprocess_input(img_data)\n",
    "\n",
    "    # extract features with VGG16\n",
    "    features = model.predict(img_data)\n",
    "    features = features.reshape((features.shape[0], 512 * 7 * 7))\n",
    "\n",
    "    # get prediction\n",
    "    predict = classifier.predict_proba(features)\n",
    "    predictionList = list(predict)[0]\n",
    "\n",
    "    # assess predictions and add them to output images\n",
    "    maxPredIndex = np.argmax(predictionList)\n",
    "    maxPred = predictionList[maxPredIndex]\n",
    "    if maxPred >= confidenceThreshold:\n",
    "        cv2.rectangle(maskList[maxPredIndex], (xTop, yTop), (xTop + windowSize, yTop + windowSize), (255, 255, 255), -1)\n",
    "\n",
    "    counter += 1\n",
    "\n",
    "    if counter % 100 == 0:\n",
    "        print(\"{} out of {} parts complete\".format(counter, tilesNumber))\n",
    "    \n",
    "\n",
    "    xTop += pxStep\n",
    "    if xTop + windowSize >= w:\n",
    "        if lastCol == False:\n",
    "            lastCol = True\n",
    "            xTop = w - windowSize - 1\n",
    "        else:\n",
    "            lastCol = False\n",
    "            xTop = 0\n",
    "            yTop += pxStep\n",
    "\n",
    "    if yTop + windowSize >= h:\n",
    "        if lastRow == False:\n",
    "            lastRow = True\n",
    "            yTop = h - windowSize - 1\n",
    "        else:\n",
    "            for i in range(0, len(labels)):\n",
    "                cv2.imwrite(outputPathDir + '/' + imagePath.split('/')[-1].split('.')[0] + '_' + labels[i] + \"_mask\" + \".png\", maskList[i])\n",
    "            print(\"All parts complete!\")\n",
    "            break"
   ]
  },
  {
   "cell_type": "code",
   "execution_count": null,
   "metadata": {},
   "outputs": [],
   "source": [
    "print(\"Saving {} masked images\".format(len(labels)))\n",
    "\n",
    "# add bounding boxes to input image\n",
    "for i in range(0, len(labels)):\n",
    "    # turn mask to grayscale, get contours, copy input image\n",
    "    contours, _ = cv2.findContours(maskList[i].astype('uint8'), cv2.RETR_TREE, cv2.CHAIN_APPROX_SIMPLE)\n",
    "    outputImage = imageCV.copy()\n",
    "\n",
    "    # draw each contour\n",
    "    for contour in contours:\n",
    "        x, y, w, h = cv2.boundingRect(contour)\n",
    "        cv2.rectangle(outputImage, (x, y), (x + w, y + h), (0, 0, 255), 2)\n",
    "    \n",
    "    # write output image\n",
    "    cv2.imwrite(outputPathDir + '/' + imagePath.split('/')[-1].split('.')[0] + '_' + labels[i] + \"_out\" + \".png\", outputImage)\n",
    "    print(\"{} of {} images done!\".format(i, len(labels)))"
   ]
  }
 ],
 "metadata": {
  "kernelspec": {
   "display_name": "Python 3",
   "language": "python",
   "name": "python3"
  },
  "language_info": {
   "codemirror_mode": {
    "name": "ipython",
    "version": 3
   },
   "file_extension": ".py",
   "mimetype": "text/x-python",
   "name": "python",
   "nbconvert_exporter": "python",
   "pygments_lexer": "ipython3",
   "version": "3.6.9"
  }
 },
 "nbformat": 4,
 "nbformat_minor": 4
}
